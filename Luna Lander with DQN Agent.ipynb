{
 "cells": [
  {
   "cell_type": "code",
   "execution_count": 1,
   "metadata": {},
   "outputs": [],
   "source": [
    "##install: py -m pip install box2d\n",
    "##install: py -m pip install pyvirtualdisplay\n",
    "import random\n",
    "import gym\n",
    "import torch ##scientific computing framework with \n",
    "             ##wide support for machine learning algorithms that puts GPUs first\n",
    "import numpy as np\n",
    "import tensorflow as tf\n",
    "from tensorflow import keras\n",
    "from collections import deque\n",
    "import matplotlib.pyplot as plt ##Graphs\n",
    "import os\n",
    "from pyvirtualdisplay import Display\n",
    "display = Display(visible=0, size=(900, 500))\n",
    "display.start()\n",
    "\n",
    "is_ipython = 'inline' in plt.get_backend() ##To make figure in notebooj\n",
    "if is_ipython:\n",
    "    from IPython import display\n",
    "\n",
    "plt.ion() ##used to turn on interactive mode\n",
    "\n",
    "EPISODES = 10\n",
    "\n"
   ]
  },
  {
   "cell_type": "code",
   "execution_count": 2,
   "metadata": {},
   "outputs": [],
   "source": [
    "class DQNAgent:\n",
    "    \n",
    "    env = gym.make('LunarLander-v2')"
   ]
  }
 ],
 "metadata": {
  "kernelspec": {
   "display_name": "Python 3",
   "language": "python",
   "name": "python3"
  },
  "language_info": {
   "codemirror_mode": {
    "name": "ipython",
    "version": 3
   },
   "file_extension": ".py",
   "mimetype": "text/x-python",
   "name": "python",
   "nbconvert_exporter": "python",
   "pygments_lexer": "ipython3",
   "version": "3.8.5"
  }
 },
 "nbformat": 4,
 "nbformat_minor": 2
}
