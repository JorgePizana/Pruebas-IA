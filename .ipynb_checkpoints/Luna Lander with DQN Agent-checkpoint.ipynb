{
 "cells": [
  {
   "cell_type": "code",
   "execution_count": null,
   "metadata": {},
   "outputs": [],
   "source": [
    "##install: py -m pip install box2d\n",
    "##install: py -m pip install pyvirtualdisplay\n",
    "import random\n",
    "import gym\n",
    "##import torch ##scientific computing framework with \n",
    "             ##wide support for machine learning algorithms that puts GPUs first\n",
    "import numpy as np\n",
    "import tensorflow as tf\n",
    "from tensorflow import keras\n",
    "from collections import deque\n",
    "import matplotlib.pyplot as plt ##Graphs\n",
    "import os\n",
    "from pyvirtualdisplay import Display\n",
    "display = Display(visible=0, size=(900, 500))\n",
    "display.start()\n",
    "\n",
    "is_ipython = 'inline' in plt.get_backend() ##To make figure in notebooj\n",
    "if is_ipython:\n",
    "    from IPython import display\n",
    "\n",
    "plt.ion() ##used to turn on interactive mode\n",
    "\n",
    "EPISODES = 10\n",
    "\n"
   ]
  },
  {
   "cell_type": "code",
   "execution_count": 8,
   "metadata": {},
   "outputs": [],
   "source": [
    "class DQNAgent:\n",
    "    def __init__(self, state_size, action_size):\n",
    "        self.state_size = state_size\n",
    "        self.action_size = action_size\n",
    "        self.memory = deque(maxlen=2000)\n",
    "        \n",
    "        ##self.gamma = 0.95    ## discount rate\n",
    "        self.max_t: 1000 ## maximum number of timesteps per episode\n",
    "        self.epsilon = 1.0  ## exploration rate, starting value of epsilon, for epsilon-greedy action selection \n",
    "        self.epsilon_min = 0.01 ##minimum value of epsilon\n",
    "        self.epsilon_decay = 0.995 ##multiplicative factor (per episode) for decreasing epsilon\n",
    "        ##self.learning_rate = 0.001\n",
    "        self.model = self._build_model()\n",
    "    "
   ]
  },
  {
   "cell_type": "code",
   "execution_count": null,
   "metadata": {},
   "outputs": [],
   "source": [
    "    env = gym.make('LunarLander-v2')\n",
    "    state_size = env.observation_space.shape[0]\n",
    "    action_size = env.action_space.n\n",
    "    agent = DQNAgent(state_size, action_size)"
   ]
  }
 ],
 "metadata": {
  "kernelspec": {
   "display_name": "Python 3",
   "language": "python",
   "name": "python3"
  },
  "language_info": {
   "codemirror_mode": {
    "name": "ipython",
    "version": 3
   },
   "file_extension": ".py",
   "mimetype": "text/x-python",
   "name": "python",
   "nbconvert_exporter": "python",
   "pygments_lexer": "ipython3",
   "version": "3.8.5"
  }
 },
 "nbformat": 4,
 "nbformat_minor": 2
}
